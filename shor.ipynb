{
 "cells": [
  {
   "cell_type": "code",
   "execution_count": 27,
   "metadata": {},
   "outputs": [],
   "source": [
    "import numpy as np\n",
    "from math import sqrt, gcd\n",
    "from random import randint\n",
    "#from qiskit.tools.visualization import plot_histogram\n",
    "#from qiskit.aqua.algorithms import Shor\n",
    "#from qiskit.aqua import QuantumInstance\n",
    "#from qiskit import QuantumCircuit, Aer, execute"
   ]
  },
  {
   "cell_type": "code",
   "execution_count": 29,
   "metadata": {},
   "outputs": [],
   "source": [
    "def checkPrime(n):\n",
    "    for e in range(2, int(sqrt(n))+1):\n",
    "        #print(e)\n",
    "        if n % e == 0:\n",
    "            return False\n",
    "\n",
    "    return True"
   ]
  },
  {
   "cell_type": "code",
   "execution_count": 30,
   "metadata": {},
   "outputs": [],
   "source": [
    "def primesUpToN(n):\n",
    "    prime_list = []\n",
    "    for e in range(2, n):\n",
    "        if(checkPrime(e)):\n",
    "            prime_list.append(e)\n",
    "    \n",
    "    return prime_list\n",
    "\n",
    "def bruteForceFactorization(n):\n",
    "    primes = primesUpToN(n)\n",
    "    #print(primes)\n",
    "\n",
    "    prime_factors = []\n",
    "    for x in primes:\n",
    "        while n % x == 0:\n",
    "            #print(n)\n",
    "            n = n / x\n",
    "            prime_factors.append(x)\n",
    "\n",
    "            if n == 1:\n",
    "                return prime_factors\n",
    "    return prime_factors"
   ]
  },
  {
   "cell_type": "code",
   "execution_count": 114,
   "metadata": {},
   "outputs": [
    {
     "name": "stdout",
     "output_type": "stream",
     "text": [
      "g:  48\n",
      "g:  69\n",
      "g:  139\n",
      "g:  66\n",
      "g:  80\n",
      "g:  44\n",
      "g:  5\n",
      "g:  84\n",
      "g:  24\n",
      "g:  45\n",
      "g:  61\n",
      "g:  38\n",
      "g:  11\n",
      "g:  40\n",
      "g:  108\n",
      "g:  13\n",
      "g:  40\n",
      "g:  99\n",
      "g:  73\n",
      "\n",
      "m:  37 , p:  2\n",
      "2 72\n"
     ]
    }
   ],
   "source": [
    "# implementação clássica\n",
    "\n",
    "def implementacaoClassica(N):\n",
    "    g = randint(2, N-1)\n",
    "    p = 0\n",
    "\n",
    "    print(\"g: \", g)\n",
    "    flag = False\n",
    "    g_ = g\n",
    "    while (g_-1)%N != 0:\n",
    "        p += 1\n",
    "        g_ = g**p\n",
    "\n",
    "        if p >= 10:\n",
    "            flag = True\n",
    "            break\n",
    "            \n",
    "    if p%2!=0:\n",
    "        flag = True\n",
    "    elif (g**(p/2)+1)%N==0 or (g**(p/2)-1)%N==0:\n",
    "        flag = True\n",
    "    \n",
    "    if not flag:\n",
    "        m = (g_-1)//N\n",
    "\n",
    "        print(\"\\nm: \", m, \", p: \", p)\n",
    "\n",
    "        fac_1 = int(g**(p/2)+1)\n",
    "        fac_2 = int(g**(p/2)-1)\n",
    "\n",
    "        n = gcd(fac_1, N)\n",
    "        q = gcd(fac_2, N)\n",
    "\n",
    "        print(n, q)\n",
    "\n",
    "        return n, q\n",
    "    else:\n",
    "        implementacaoClassica(N)\n",
    "\n",
    "implementacaoClassica(144)\n"
   ]
  },
  {
   "cell_type": "code",
   "execution_count": null,
   "metadata": {},
   "outputs": [],
   "source": []
  },
  {
   "cell_type": "code",
   "execution_count": null,
   "metadata": {},
   "outputs": [],
   "source": []
  },
  {
   "cell_type": "code",
   "execution_count": null,
   "metadata": {},
   "outputs": [],
   "source": []
  }
 ],
 "metadata": {
  "kernelspec": {
   "display_name": "Python 3",
   "language": "python",
   "name": "python3"
  },
  "language_info": {
   "codemirror_mode": {
    "name": "ipython",
    "version": 3
   },
   "file_extension": ".py",
   "mimetype": "text/x-python",
   "name": "python",
   "nbconvert_exporter": "python",
   "pygments_lexer": "ipython3",
   "version": "3.12.3"
  }
 },
 "nbformat": 4,
 "nbformat_minor": 2
}
